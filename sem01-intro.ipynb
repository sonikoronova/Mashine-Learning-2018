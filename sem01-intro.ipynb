{
 "cells": [
  {
   "cell_type": "markdown",
   "metadata": {},
   "source": [
    "# Машинное обучение, ФКН ВШЭ\n",
    "\n",
    "# Семинар 1\n",
    "\n",
    "На этом семинаре:\n",
    "\n",
    "- Обсудим виды задач машинного обучения\n",
    "- Разберём несколько примеров задач\n",
    "- Поговорим про инструменты, которые используются аналитиками данных\n",
    "- Немного посмотрим на данные\n",
    "\n",
    "### 1. Напоминание материала лекции\n",
    "\n",
    "Вспомним основные виды задач машинного обучения, о которых говорилось на лекции, и обсудим несколько других.\n",
    "\n",
    "Традиционно задачи делятся на **обучение с/без учителя** - это определяется наличием в данных целевой переменной.\n",
    "\n",
    "#### Обучение с учителем\n",
    "\n",
    "- Задача регрессии — задача с вещественной целевой переменной, где основная цель предсказать значение близкое к фактическому в смысле некоторого функционала ошибки. Простой пример — предсказание цены дома по его параметрам.\n",
    "<img src=\"https://pythonprogramming.net/static/images/machine-learning/negative-correlation-linear-regression-example.png\">\n",
    "\n",
    "\n",
    "- Задача классификации (в том числе многоклассовая и многоклассовая с пересекающимися классами) — задача, где целевая переменная принимает значение из некоторого фиксированного конечного множества значений (или несколько в случае пересекающихся классов). Например, задача тегирования видеороликов — многоклассовая классификация с пересекающимися классами.\n",
    "<img src=\"https://catalystsecure.com/components/com_wordpress/wp/wp-content/uploads/2015/10/catsanddogs.png\">\n",
    "\n",
    "\n",
    "- Задача ранжирования — задача, в которой необходимо отсортировать объекты выборки по некоторому критерию (релеватности). При этом иногда нужно сортировать все объекты глобально, а иногда только внутри некоторых групп (например, в поиске необходимо сортировать ссылки для каждого запроса отдельно). Типичный пример — поисковая система.\n",
    "<img src=\"https://s15.postimg.cc/54sfh7e6j/2018-09-02_13.44.17.png\">\n",
    "\n",
    "#### Обучение без учителя\n",
    "\n",
    "- Задача кластеризации — задача, в которой выборка не имеет какой-то целевой переменной, а необходимо разделить объекты на группым по некоторым свойствам. На практике нередко сложно оценить качество при решении этой задачи. Пример — разделить пользователей сервиса на группы для дальнейшего исследования клиентов. \n",
    "<img src=\"http://predict.palinkas.com/images/blog-post1.png\">\n",
    "\n",
    "\n",
    "- Задача поиска выбросов — задача, похожая на бинарную классификацию с преобладанием объектов одного класса с тем отличием, что объекты \"редкого\" класса могут быть не похожими между собой, а лишь отличаться от объектов основного класса. Кроме этого, на практике объектов-выбросов в выборке может и не быть. Например, задача поиска фальшивых монет. Если быть строже, задачи этого класса можно разделить на детектирование выбросов и новизны.\n",
    "<img src=\"http://scikit-learn.org/stable/_images/sphx_glr_plot_outlier_detection_001.png\">\n",
    "\n",
    "\n",
    "- Задача обучения с подкреплением — задача, в которой обучающая система учится воздействовать со средой, не имея сведений о ней. Например, двуногий робот учится управлять своими шарнирами, двигаясь по ровной поверхности. Такие задачи достаточно специфичны и не будут рассматриваться в этом курсе.\n",
    "<img src=\"https://1.bp.blogspot.com/-14XA1O7mDk0/WBtPivhDa2I/AAAAAAAAAT0/M_2SLTkqGfYun25IDQlw5GGD_WETVC6oQCEw/s1600/as2.jpg\">\n",
    "\n",
    "\n",
    "Иногда выделяют и другие более редкие виды задач. Некоторые из них могут пересекаться с описанными выше. Например, задача построения рекомендаций может решаться как задача бинарной классификации или как задача ранжирования. \n",
    "\n",
    "### 3. Примеры задач машинного обучению\n",
    "\n",
    "Разберём несколько задач, которые решаются с помощью машинного обучению. От простых и очевидных до задач с большей вариативностью.\n",
    "\n",
    "##### - Кредитный скоринг\n",
    "  \n",
    "    Задача: выяснить, какие заявки на кредит можно одобрить\n",
    "  \n",
    "    - Что является целевой переменной и какие значений она может принимать?\n",
    "    - Какую задачу машинного обучения будем решать?\n",
    "    - Предположим, что заявки поступают от текущих клиентов нашего банка. Какие полезные признаки мы могли бы построить? А если это люди, приходящие к нам со стороны со всякими справками о доходах? А если мы поисковый сервис (или можем использовать их информацию), то что полезного можно извлечь?\n",
    "   \n",
    "##### - Лента Facebook/Дзен по интересности (вместо сортировки по времени)\n",
    "     \n",
    "     Задача: показать посты, наиболее интересные для конкретного человека.\n",
    "     \n",
    "    - Какую задачу машинного обучения будем решать? Можно ли допустить другую трактовку? \n",
    "    - Что будет объектом в задаче?\n",
    "    - Что будет целевой переменной? Как построим обучающую выборку? \n",
    "     \n",
    "##### - Детектирование некорректной работы завода\n",
    "\n",
    "    Предположим, что у нас есть завод, на котором происходят некоторые процессы (стоят какие-то котлы, станки, печи и прочее). Всё управляется с некоторого пульта и ко всему есть доступ. На предприятии может произойти поломка, например, сломается датчик уровня жидкости в баке, из-за чего насос не остановится при достижении нужного уровня и нефть начнёт разливаться по полу, что может привести к неизвестным последствиям. Или же хакеры могут удалённо получить доступ к пульту управления системами и что-нибудь натворить. Мы хотим, чтобы завод работал исправно, а обо всех проблемах узнавать как можно раньше.\n",
    "\n",
    "    - Какую задачу машинного обучения будем решать? Какую обучающую выборку можем и какую не можем собрать? \n",
    "\n",
    "##### - Вопросно-ответная система (как Siri)\n",
    "    \n",
    "    Задача: ответить голосом на вопрос, заданный голосом.\n",
    "     \n",
    "     - Какие задачи машинного обучения возникают внутри одной большой? \n",
    "\n",
    "<img src=\"https://s15.postimg.cc/8oed6yjgb/Alice-_-i_OS.jpg\">\n",
    "\n",
    "\n",
    "##### - Self-driving cars\n",
    "     \n",
    "    Задача: обеспечить полную самоуправляемость автомобиля (доехать до точки B).\n",
    "     \n",
    "     - Какие подзадачи приодится решать? \n",
    "     - Какие проблемы возникают при решении задач, связанных с реальными объектами?\n",
    "     - Как можно сформировать выборку? Какие данные необходимы?\n",
    "\n",
    "<img src=\"https://pbs.twimg.com/media/De2K_veW0AEymgs.jpg\">\n",
    "\n",
    "\n",
    "##### - Перенос стиля изображения\n",
    "   \n",
    "     Задача: перенести стиль одного изображения на другое (смешать стиль одного с контекстом другого).\n",
    "<img src=\"https://camo.githubusercontent.com/69cbc0371777fba5d251a564e2f8a8f38d1bf43f/68747470733a2f2f6a756e79616e7a2e6769746875622e696f2f4379636c6547414e2f696d616765732f7465617365725f686967685f7265732e6a7067\">"
   ]
  },
  {
   "cell_type": "markdown",
   "metadata": {},
   "source": [
    "### 4. Инструменты\n",
    "   \n",
    "У всех датасайентистов свои привычки и вкусы. Часто требования к используемым инструментам выставляются на работе, особенно если она происходит в команде с другими аналитиками и разработчиками. Часто (по опросам на 2018 год чаще всего) аналитики данных используют язык программирования Python (его мы и будем использовать в этом курсе) по нескольким причинам:\n",
    "   \n",
    "- Популярность языка в целом (в первой тройке по различным критериям на Github и в десятке самых популярных по различным точкам зрения других рейтингов) — много разработчиков, много различных инструментов.\n",
    "- Простота изучения — многие аналитики данных не являются программистами как таковыми, а при обучении стремятся как можно быстрее изучить необходимый им инструмент. \n",
    "- Простота использования. Python — интерпретируемый язык (не требует компиляции кода) с динамической типизацией и многими прочими особенностями, позволяющими как можно меньше думать о программировании и больше концентрироваться на решении конкретной задачи.\n",
    "   \n",
    "Нельзя сказать, что можно обойтись на практике одним лишь языком Python. Большинство реальных систем предъявляет требования к скорости работы, а Python в этом часто уступает классическим компилируемым языкам вроде C++ или Java, поэтому часто на практике решения, подготовленные на Python переписываются или с минимальными потерями встраиваются в другие языки.\n",
    "\n",
    "Кроме Python, аналитики данных часто используют язык R, который так же достаточно прост и удобен, однако почти не используется в кругах разработчиков. Реже и в некоторых специфичных задачах применяются Matlab и SAS.\n",
    "\n",
    "Но одним лишь языком программирования не обойтись — используются различные инструменты и библиотеки (мы рассматриваем лишь Python):\n",
    "   \n",
    "- Среды разработки. Можно использовать как классические IDE, например, PyCharm или Spyder, так и предпочитаемый аналитиками Jupyter Notebook. Он позволяет как писать код и запускать его отдельными фрагментами, так и оформлять всё в виде отчёта с markdown разметкой и формулами LaTex.\n",
    "- Библиотеки для обработки данных такие, как NumPy и Pandas.\n",
    "- Библиотеки для визуализации данных такие, как Matplotlib и ggplot.\n",
    "- Библиотеки с алгоритмами машинного обучения такие, как scikit-learn, XGBoost и pytorch.\n",
    "\n",
    "С некоторыми из них вам предстоит ознакомиться в домашней работе."
   ]
  },
  {
   "cell_type": "markdown",
   "metadata": {},
   "source": [
    "### 5. Пример первичной работы с данными\n",
    "\n",
    "Теперь давайте немного попрактикуемся. Во-первых, мы сейчас пользуемся Jupyter Notebook. Визуально это множество ячеек, каждая из которых принадлежит некоторому типу. Мы можем писать и запускать код, облагораживать его комментариями с markdown-разметкой (как было выше), вставлять формулы LaTex. Результат можно оставить в родном формате, который отображается на Github, а можно сконвертировать в другие форматы. \n",
    "Для работы с данными существует значительное количество специализированных библиотек, о которых говорилось выше. Сравним первоначальный обзор данных на 'чистом' python и с помощью библиотеки pandas."
   ]
  },
  {
   "cell_type": "markdown",
   "metadata": {},
   "source": [
    "Загрузим набор [данных](https://dl.dropboxusercontent.com/s/779oy1k9z8xjenp/fifa_data.json) о матчах Чемпионата Мира по футболу 2018"
   ]
  },
  {
   "cell_type": "code",
   "execution_count": 1,
   "metadata": {
    "collapsed": true
   },
   "outputs": [],
   "source": [
    "! wget  -O 'fifa_data.json' -q 'https://dl.dropboxusercontent.com/s/779oy1k9z8xjenp/fifa_data.json'"
   ]
  },
  {
   "cell_type": "code",
   "execution_count": 7,
   "metadata": {},
   "outputs": [],
   "source": [
    "import simplejson\n",
    "\n",
    "with open('fifa_data.json') as f:\n",
    "    data = simplejson.load(f)"
   ]
  },
  {
   "cell_type": "code",
   "execution_count": 8,
   "metadata": {},
   "outputs": [
    {
     "data": {
      "text/plain": [
       "dict_keys(['venue', 'location', 'status', 'time', 'fifa_id', 'weather', 'attendance', 'officials', 'stage_name', 'home_team_country', 'away_team_country', 'datetime', 'winner', 'winner_code', 'home_team', 'away_team', 'home_team_events', 'away_team_events', 'home_team_statistics', 'away_team_statistics', 'last_event_update_at', 'last_score_update_at'])"
      ]
     },
     "execution_count": 8,
     "metadata": {},
     "output_type": "execute_result"
    }
   ],
   "source": [
    "data['matches'][0].keys()"
   ]
  },
  {
   "cell_type": "markdown",
   "metadata": {},
   "source": [
    "Импортируем библиотеку pandas, загрузим данные в таблицу"
   ]
  },
  {
   "cell_type": "code",
   "execution_count": 9,
   "metadata": {
    "collapsed": true
   },
   "outputs": [],
   "source": [
    "import pandas as pd"
   ]
  },
  {
   "cell_type": "code",
   "execution_count": 10,
   "metadata": {},
   "outputs": [
    {
     "data": {
      "text/html": [
       "<div>\n",
       "<style>\n",
       "    .dataframe thead tr:only-child th {\n",
       "        text-align: right;\n",
       "    }\n",
       "\n",
       "    .dataframe thead th {\n",
       "        text-align: left;\n",
       "    }\n",
       "\n",
       "    .dataframe tbody tr th {\n",
       "        vertical-align: top;\n",
       "    }\n",
       "</style>\n",
       "<table border=\"1\" class=\"dataframe\">\n",
       "  <thead>\n",
       "    <tr style=\"text-align: right;\">\n",
       "      <th></th>\n",
       "      <th>attendance</th>\n",
       "      <th>away_team</th>\n",
       "      <th>away_team_country</th>\n",
       "      <th>away_team_events</th>\n",
       "      <th>away_team_statistics</th>\n",
       "      <th>datetime</th>\n",
       "      <th>fifa_id</th>\n",
       "      <th>home_team</th>\n",
       "      <th>home_team_country</th>\n",
       "      <th>home_team_events</th>\n",
       "      <th>...</th>\n",
       "      <th>last_score_update_at</th>\n",
       "      <th>location</th>\n",
       "      <th>officials</th>\n",
       "      <th>stage_name</th>\n",
       "      <th>status</th>\n",
       "      <th>time</th>\n",
       "      <th>venue</th>\n",
       "      <th>weather</th>\n",
       "      <th>winner</th>\n",
       "      <th>winner_code</th>\n",
       "    </tr>\n",
       "  </thead>\n",
       "  <tbody>\n",
       "    <tr>\n",
       "      <th>0</th>\n",
       "      <td>78011</td>\n",
       "      <td>{'country': 'Saudi Arabia', 'code': 'KSA', 'go...</td>\n",
       "      <td>Saudi Arabia</td>\n",
       "      <td>[{'id': 12, 'type_of_event': 'substitution-in'...</td>\n",
       "      <td>{'country': 'Saudi Arabia', 'attempts_on_goal'...</td>\n",
       "      <td>2018-06-14T15:00:00Z</td>\n",
       "      <td>300331503</td>\n",
       "      <td>{'country': 'Russia', 'code': 'RUS', 'goals': ...</td>\n",
       "      <td>Russia</td>\n",
       "      <td>[{'id': 5, 'type_of_event': 'goal', 'player': ...</td>\n",
       "      <td>...</td>\n",
       "      <td>None</td>\n",
       "      <td>Luzhniki Stadium</td>\n",
       "      <td>[Nestor PITANA, Hernan MAIDANA, Juan Pablo BEL...</td>\n",
       "      <td>First stage</td>\n",
       "      <td>completed</td>\n",
       "      <td>full-time</td>\n",
       "      <td>Moscow</td>\n",
       "      <td>{'humidity': '43', 'temp_celsius': '17', 'temp...</td>\n",
       "      <td>Russia</td>\n",
       "      <td>RUS</td>\n",
       "    </tr>\n",
       "    <tr>\n",
       "      <th>1</th>\n",
       "      <td>27015</td>\n",
       "      <td>{'country': 'Uruguay', 'code': 'URU', 'goals':...</td>\n",
       "      <td>Uruguay</td>\n",
       "      <td>[{'id': 15, 'type_of_event': 'substitution-in'...</td>\n",
       "      <td>{'country': 'Uruguay', 'attempts_on_goal': 14,...</td>\n",
       "      <td>2018-06-15T12:00:00Z</td>\n",
       "      <td>300353632</td>\n",
       "      <td>{'country': 'Egypt', 'code': 'EGY', 'goals': 0...</td>\n",
       "      <td>Egypt</td>\n",
       "      <td>[{'id': 14, 'type_of_event': 'substitution-in'...</td>\n",
       "      <td>...</td>\n",
       "      <td>None</td>\n",
       "      <td>Ekaterinburg Arena</td>\n",
       "      <td>[Bjorn KUIPERS, Sander VAN ROEKEL, Erwin ZEINS...</td>\n",
       "      <td>First stage</td>\n",
       "      <td>completed</td>\n",
       "      <td>full-time</td>\n",
       "      <td>Ekaterinburg</td>\n",
       "      <td>{'humidity': '42', 'temp_celsius': '14', 'temp...</td>\n",
       "      <td>Uruguay</td>\n",
       "      <td>URU</td>\n",
       "    </tr>\n",
       "    <tr>\n",
       "      <th>2</th>\n",
       "      <td>62548</td>\n",
       "      <td>{'country': 'Iran', 'code': 'IRN', 'goals': 1,...</td>\n",
       "      <td>Iran</td>\n",
       "      <td>[{'id': 22, 'type_of_event': 'yellow-card', 'p...</td>\n",
       "      <td>{'country': 'Iran', 'attempts_on_goal': 8, 'on...</td>\n",
       "      <td>2018-06-15T15:00:00Z</td>\n",
       "      <td>300331526</td>\n",
       "      <td>{'country': 'Morocco', 'code': 'MAR', 'goals':...</td>\n",
       "      <td>Morocco</td>\n",
       "      <td>[{'id': 23, 'type_of_event': 'yellow-card', 'p...</td>\n",
       "      <td>...</td>\n",
       "      <td>None</td>\n",
       "      <td>Saint Petersburg Stadium</td>\n",
       "      <td>[Cuneyt CAKIR, Bahattin DURAN, Tarik ONGUN, Se...</td>\n",
       "      <td>First stage</td>\n",
       "      <td>completed</td>\n",
       "      <td>full-time</td>\n",
       "      <td>St. Petersburg</td>\n",
       "      <td>{'humidity': '37', 'temp_celsius': '25', 'temp...</td>\n",
       "      <td>Iran</td>\n",
       "      <td>IRN</td>\n",
       "    </tr>\n",
       "    <tr>\n",
       "      <th>3</th>\n",
       "      <td>43866</td>\n",
       "      <td>{'country': 'Spain', 'code': 'ESP', 'goals': 3...</td>\n",
       "      <td>Spain</td>\n",
       "      <td>[{'id': 37, 'type_of_event': 'yellow-card', 'p...</td>\n",
       "      <td>{'country': 'Spain', 'attempts_on_goal': 12, '...</td>\n",
       "      <td>2018-06-15T18:00:00Z</td>\n",
       "      <td>300331524</td>\n",
       "      <td>{'country': 'Portugal', 'code': 'POR', 'goals'...</td>\n",
       "      <td>Portugal</td>\n",
       "      <td>[{'id': 36, 'type_of_event': 'goal-penalty', '...</td>\n",
       "      <td>...</td>\n",
       "      <td>2018-06-15T19:52:38Z</td>\n",
       "      <td>Fisht Stadium</td>\n",
       "      <td>[Gianluca ROCCHI, Elenito DI LIBERATORE, Mauro...</td>\n",
       "      <td>First stage</td>\n",
       "      <td>completed</td>\n",
       "      <td>full-time</td>\n",
       "      <td>Sochi</td>\n",
       "      <td>{'humidity': '74', 'temp_celsius': '24', 'temp...</td>\n",
       "      <td>Draw</td>\n",
       "      <td>Draw</td>\n",
       "    </tr>\n",
       "    <tr>\n",
       "      <th>4</th>\n",
       "      <td>41279</td>\n",
       "      <td>{'country': 'Australia', 'code': 'AUS', 'goals...</td>\n",
       "      <td>Australia</td>\n",
       "      <td>[{'id': 50, 'type_of_event': 'yellow-card', 'p...</td>\n",
       "      <td>{'country': 'Australia', 'attempts_on_goal': 4...</td>\n",
       "      <td>2018-06-16T10:00:00Z</td>\n",
       "      <td>300331533</td>\n",
       "      <td>{'country': 'France', 'code': 'FRA', 'goals': ...</td>\n",
       "      <td>France</td>\n",
       "      <td>[{'id': 52, 'type_of_event': 'goal-penalty', '...</td>\n",
       "      <td>...</td>\n",
       "      <td>2018-06-16T11:52:21Z</td>\n",
       "      <td>Kazan Arena</td>\n",
       "      <td>[Andres CUNHA, Nicolas TARAN, Mauricio ESPINOS...</td>\n",
       "      <td>First stage</td>\n",
       "      <td>completed</td>\n",
       "      <td>full-time</td>\n",
       "      <td>Kazan</td>\n",
       "      <td>{'humidity': '32', 'temp_celsius': '19', 'temp...</td>\n",
       "      <td>France</td>\n",
       "      <td>FRA</td>\n",
       "    </tr>\n",
       "  </tbody>\n",
       "</table>\n",
       "<p>5 rows × 22 columns</p>\n",
       "</div>"
      ],
      "text/plain": [
       "  attendance                                          away_team  \\\n",
       "0      78011  {'country': 'Saudi Arabia', 'code': 'KSA', 'go...   \n",
       "1      27015  {'country': 'Uruguay', 'code': 'URU', 'goals':...   \n",
       "2      62548  {'country': 'Iran', 'code': 'IRN', 'goals': 1,...   \n",
       "3      43866  {'country': 'Spain', 'code': 'ESP', 'goals': 3...   \n",
       "4      41279  {'country': 'Australia', 'code': 'AUS', 'goals...   \n",
       "\n",
       "  away_team_country                                   away_team_events  \\\n",
       "0      Saudi Arabia  [{'id': 12, 'type_of_event': 'substitution-in'...   \n",
       "1           Uruguay  [{'id': 15, 'type_of_event': 'substitution-in'...   \n",
       "2              Iran  [{'id': 22, 'type_of_event': 'yellow-card', 'p...   \n",
       "3             Spain  [{'id': 37, 'type_of_event': 'yellow-card', 'p...   \n",
       "4         Australia  [{'id': 50, 'type_of_event': 'yellow-card', 'p...   \n",
       "\n",
       "                                away_team_statistics              datetime  \\\n",
       "0  {'country': 'Saudi Arabia', 'attempts_on_goal'...  2018-06-14T15:00:00Z   \n",
       "1  {'country': 'Uruguay', 'attempts_on_goal': 14,...  2018-06-15T12:00:00Z   \n",
       "2  {'country': 'Iran', 'attempts_on_goal': 8, 'on...  2018-06-15T15:00:00Z   \n",
       "3  {'country': 'Spain', 'attempts_on_goal': 12, '...  2018-06-15T18:00:00Z   \n",
       "4  {'country': 'Australia', 'attempts_on_goal': 4...  2018-06-16T10:00:00Z   \n",
       "\n",
       "     fifa_id                                          home_team  \\\n",
       "0  300331503  {'country': 'Russia', 'code': 'RUS', 'goals': ...   \n",
       "1  300353632  {'country': 'Egypt', 'code': 'EGY', 'goals': 0...   \n",
       "2  300331526  {'country': 'Morocco', 'code': 'MAR', 'goals':...   \n",
       "3  300331524  {'country': 'Portugal', 'code': 'POR', 'goals'...   \n",
       "4  300331533  {'country': 'France', 'code': 'FRA', 'goals': ...   \n",
       "\n",
       "  home_team_country                                   home_team_events  \\\n",
       "0            Russia  [{'id': 5, 'type_of_event': 'goal', 'player': ...   \n",
       "1             Egypt  [{'id': 14, 'type_of_event': 'substitution-in'...   \n",
       "2           Morocco  [{'id': 23, 'type_of_event': 'yellow-card', 'p...   \n",
       "3          Portugal  [{'id': 36, 'type_of_event': 'goal-penalty', '...   \n",
       "4            France  [{'id': 52, 'type_of_event': 'goal-penalty', '...   \n",
       "\n",
       "      ...      last_score_update_at                  location  \\\n",
       "0     ...                      None          Luzhniki Stadium   \n",
       "1     ...                      None        Ekaterinburg Arena   \n",
       "2     ...                      None  Saint Petersburg Stadium   \n",
       "3     ...      2018-06-15T19:52:38Z             Fisht Stadium   \n",
       "4     ...      2018-06-16T11:52:21Z               Kazan Arena   \n",
       "\n",
       "                                           officials   stage_name     status  \\\n",
       "0  [Nestor PITANA, Hernan MAIDANA, Juan Pablo BEL...  First stage  completed   \n",
       "1  [Bjorn KUIPERS, Sander VAN ROEKEL, Erwin ZEINS...  First stage  completed   \n",
       "2  [Cuneyt CAKIR, Bahattin DURAN, Tarik ONGUN, Se...  First stage  completed   \n",
       "3  [Gianluca ROCCHI, Elenito DI LIBERATORE, Mauro...  First stage  completed   \n",
       "4  [Andres CUNHA, Nicolas TARAN, Mauricio ESPINOS...  First stage  completed   \n",
       "\n",
       "        time           venue  \\\n",
       "0  full-time          Moscow   \n",
       "1  full-time    Ekaterinburg   \n",
       "2  full-time  St. Petersburg   \n",
       "3  full-time           Sochi   \n",
       "4  full-time           Kazan   \n",
       "\n",
       "                                             weather   winner winner_code  \n",
       "0  {'humidity': '43', 'temp_celsius': '17', 'temp...   Russia         RUS  \n",
       "1  {'humidity': '42', 'temp_celsius': '14', 'temp...  Uruguay         URU  \n",
       "2  {'humidity': '37', 'temp_celsius': '25', 'temp...     Iran         IRN  \n",
       "3  {'humidity': '74', 'temp_celsius': '24', 'temp...     Draw        Draw  \n",
       "4  {'humidity': '32', 'temp_celsius': '19', 'temp...   France         FRA  \n",
       "\n",
       "[5 rows x 22 columns]"
      ]
     },
     "execution_count": 10,
     "metadata": {},
     "output_type": "execute_result"
    }
   ],
   "source": [
    "data_pandas = pd.DataFrame.from_dict(data['matches'])\n",
    "data_pandas.head()"
   ]
  },
  {
   "cell_type": "markdown",
   "metadata": {},
   "source": [
    "#### Сколько всего зрителей посетило матчи?"
   ]
  },
  {
   "cell_type": "code",
   "execution_count": 11,
   "metadata": {},
   "outputs": [
    {
     "name": "stdout",
     "output_type": "stream",
     "text": [
      "3031768\n"
     ]
    }
   ],
   "source": [
    "num_visitors = 0\n",
    "for match in data['matches']:\n",
    "    num_visitors += int(match['attendance'])\n",
    "print(num_visitors)"
   ]
  },
  {
   "cell_type": "code",
   "execution_count": 12,
   "metadata": {},
   "outputs": [
    {
     "data": {
      "text/plain": [
       "3031768"
      ]
     },
     "execution_count": 12,
     "metadata": {},
     "output_type": "execute_result"
    }
   ],
   "source": [
    "data_pandas['attendance'].astype(int).sum()"
   ]
  },
  {
   "cell_type": "markdown",
   "metadata": {},
   "source": [
    "#### Какая была самая популярная расстановка на поле у гостевых команд?"
   ]
  },
  {
   "cell_type": "code",
   "execution_count": 13,
   "metadata": {},
   "outputs": [
    {
     "data": {
      "text/plain": [
       "{'3-4-3': 4,\n",
       " '3-5-2': 6,\n",
       " '4-2-3-1': 29,\n",
       " '4-3-3': 9,\n",
       " '4-4-2': 8,\n",
       " '4-5-1': 5,\n",
       " '5-3-2': 1,\n",
       " '5-4-1': 2}"
      ]
     },
     "execution_count": 13,
     "metadata": {},
     "output_type": "execute_result"
    }
   ],
   "source": [
    "tactics = dict()\n",
    "for match in data['matches']:\n",
    "    team_tactic = match['away_team_statistics']['tactics']\n",
    "    if team_tactic not in tactics:\n",
    "        tactics[team_tactic] = 1\n",
    "    else:\n",
    "        tactics[team_tactic] += 1\n",
    "tactics"
   ]
  },
  {
   "cell_type": "code",
   "execution_count": null,
   "metadata": {
    "collapsed": true
   },
   "outputs": [],
   "source": [
    "data_pandas['away_team_statistics'].apply(lambda x: x['tactics']).value_counts()"
   ]
  },
  {
   "cell_type": "markdown",
   "metadata": {},
   "source": [
    "#### В каком матче было больше всего событий? А меньше всего?"
   ]
  },
  {
   "cell_type": "code",
   "execution_count": null,
   "metadata": {
    "collapsed": true,
    "scrolled": true
   },
   "outputs": [],
   "source": [
    "events = dict()\n",
    "for match in data['matches']:\n",
    "    name_of_match = match['home_team_country'] + '_' + match['away_team_country']\n",
    "    events[name_of_match] = len(match['home_team_events']) + len(match['away_team_events'])\n",
    "sorted(events.items(), key=lambda x: x[1])"
   ]
  },
  {
   "cell_type": "code",
   "execution_count": null,
   "metadata": {
    "collapsed": true,
    "scrolled": true
   },
   "outputs": [],
   "source": [
    "data_pandas.index = data_pandas['home_team_country'] + '_' + data_pandas['away_team_country']\n",
    "(data_pandas['away_team_events'] + data_pandas['home_team_events']).apply(len).sort_values(ascending=False)"
   ]
  },
  {
   "cell_type": "markdown",
   "metadata": {},
   "source": [
    "#### В каком городе во время чемпионата была самая высокая средняя температура?"
   ]
  },
  {
   "cell_type": "code",
   "execution_count": null,
   "metadata": {
    "collapsed": true
   },
   "outputs": [],
   "source": [
    "temperature = dict()\n",
    "for match in data['matches']:\n",
    "    location = match['venue']\n",
    "    t = int(match['weather']['temp_celsius'])\n",
    "    if location not in temperature:\n",
    "        temperature[location] = [t]\n",
    "    else:\n",
    "        temperature[location] += [t]\n",
    "{location:(sum(t)/len(t)) for location, t in temperature.items()}"
   ]
  },
  {
   "cell_type": "code",
   "execution_count": null,
   "metadata": {
    "collapsed": true
   },
   "outputs": [],
   "source": [
    "data_pandas['temperature'] = data_pandas['weather'].apply(lambda x: int(x['temp_celsius']))\n",
    "data_pandas.groupby('venue')['temperature'].mean()"
   ]
  },
  {
   "cell_type": "markdown",
   "metadata": {},
   "source": [
    "#### Нетрудно заметить, что pandas позволяет проводить те же преобразования, выигрывая по удобству использования"
   ]
  }
 ],
 "metadata": {
  "kernelspec": {
   "display_name": "Python 3",
   "language": "python",
   "name": "python3"
  },
  "language_info": {
   "codemirror_mode": {
    "name": "ipython",
    "version": 3
   },
   "file_extension": ".py",
   "mimetype": "text/x-python",
   "name": "python",
   "nbconvert_exporter": "python",
   "pygments_lexer": "ipython3",
   "version": "3.6.2"
  }
 },
 "nbformat": 4,
 "nbformat_minor": 2
}
